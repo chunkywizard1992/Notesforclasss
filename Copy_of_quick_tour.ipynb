{
  "cells": [
    {
      "cell_type": "markdown",
      "metadata": {
        "id": "view-in-github",
        "colab_type": "text"
      },
      "source": [
        "<a href=\"https://colab.research.google.com/github/chunkywizard1992/Notesforclasss/blob/main/Copy_of_quick_tour.ipynb\" target=\"_parent\"><img src=\"https://colab.research.google.com/assets/colab-badge.svg\" alt=\"Open In Colab\"/></a>"
      ]
    },
    {
      "cell_type": "markdown",
      "metadata": {
        "id": "57cUBU_kW8YI"
      },
      "source": [
        "# Quick Tour\n",
        "\n",
        "<a target=\"_blank\" href=\"https://colab.research.google.com/github/lavague-ai/LaVague/blob/main/docs/docs/get-started/quick-tour-notebook/quick-tour.ipynb\">\n",
        "<img src=\"https://colab.research.google.com/assets/colab-badge.svg\" alt=\"Open In Colab\"></a>"
      ]
    },
    {
      "cell_type": "markdown",
      "metadata": {
        "id": "RBcpVSR6fwT-"
      },
      "source": [
        "## Pre-requisites\n",
        "\n",
        "**Note**: We use OpenAI's models, for the embedding, LLM and Vision model. You will need to set the OPENAI_API_KEY variable in your local environment with a valid API key for this example to work.\n",
        "\n",
        "If you don't have an OpenAI API key, please get one here: https://platform.openai.com/docs/quickstart/developer-quickstart"
      ]
    },
    {
      "cell_type": "markdown",
      "metadata": {
        "id": "rAFBONJcd8mI"
      },
      "source": [
        "# Installation\n",
        "\n",
        "We start by download LaVague."
      ]
    },
    {
      "cell_type": "code",
      "execution_count": 218,
      "metadata": {
        "colab": {
          "base_uri": "https://localhost:8080/"
        },
        "id": "E6TVyo2uGrJq",
        "outputId": "9cf136c1-f168-4986-bb6a-e04f05fd7136",
        "collapsed": true
      },
      "outputs": [
        {
          "output_type": "stream",
          "name": "stdout",
          "text": [
            "Requirement already satisfied: flask in /usr/local/lib/python3.10/dist-packages (2.2.5)\n",
            "Requirement already satisfied: google-auth in /usr/local/lib/python3.10/dist-packages (2.27.0)\n",
            "Requirement already satisfied: google-auth-oauthlib in /usr/local/lib/python3.10/dist-packages (1.2.0)\n",
            "Requirement already satisfied: google-auth-httplib2 in /usr/local/lib/python3.10/dist-packages (0.1.1)\n",
            "Requirement already satisfied: pyngrok in /usr/local/lib/python3.10/dist-packages (7.1.6)\n",
            "Requirement already satisfied: Werkzeug>=2.2.2 in /usr/local/lib/python3.10/dist-packages (from flask) (3.0.3)\n",
            "Requirement already satisfied: Jinja2>=3.0 in /usr/local/lib/python3.10/dist-packages (from flask) (3.1.4)\n",
            "Requirement already satisfied: itsdangerous>=2.0 in /usr/local/lib/python3.10/dist-packages (from flask) (2.2.0)\n",
            "Requirement already satisfied: click>=8.0 in /usr/local/lib/python3.10/dist-packages (from flask) (8.1.7)\n",
            "Requirement already satisfied: cachetools<6.0,>=2.0.0 in /usr/local/lib/python3.10/dist-packages (from google-auth) (5.3.3)\n",
            "Requirement already satisfied: pyasn1-modules>=0.2.1 in /usr/local/lib/python3.10/dist-packages (from google-auth) (0.4.0)\n",
            "Requirement already satisfied: rsa<5,>=3.1.4 in /usr/local/lib/python3.10/dist-packages (from google-auth) (4.9)\n",
            "Requirement already satisfied: requests-oauthlib>=0.7.0 in /usr/local/lib/python3.10/dist-packages (from google-auth-oauthlib) (1.3.1)\n",
            "Requirement already satisfied: httplib2>=0.19.0 in /usr/local/lib/python3.10/dist-packages (from google-auth-httplib2) (0.22.0)\n",
            "Requirement already satisfied: PyYAML>=5.1 in /usr/local/lib/python3.10/dist-packages (from pyngrok) (6.0.1)\n",
            "Requirement already satisfied: pyparsing!=3.0.0,!=3.0.1,!=3.0.2,!=3.0.3,<4,>=2.4.2 in /usr/local/lib/python3.10/dist-packages (from httplib2>=0.19.0->google-auth-httplib2) (3.1.2)\n",
            "Requirement already satisfied: MarkupSafe>=2.0 in /usr/local/lib/python3.10/dist-packages (from Jinja2>=3.0->flask) (2.1.5)\n",
            "Requirement already satisfied: pyasn1<0.7.0,>=0.4.6 in /usr/local/lib/python3.10/dist-packages (from pyasn1-modules>=0.2.1->google-auth) (0.6.0)\n",
            "Requirement already satisfied: oauthlib>=3.0.0 in /usr/local/lib/python3.10/dist-packages (from requests-oauthlib>=0.7.0->google-auth-oauthlib) (3.2.2)\n",
            "Requirement already satisfied: requests>=2.0.0 in /usr/local/lib/python3.10/dist-packages (from requests-oauthlib>=0.7.0->google-auth-oauthlib) (2.31.0)\n",
            "Requirement already satisfied: charset-normalizer<4,>=2 in /usr/local/lib/python3.10/dist-packages (from requests>=2.0.0->requests-oauthlib>=0.7.0->google-auth-oauthlib) (3.3.2)\n",
            "Requirement already satisfied: idna<4,>=2.5 in /usr/local/lib/python3.10/dist-packages (from requests>=2.0.0->requests-oauthlib>=0.7.0->google-auth-oauthlib) (3.7)\n",
            "Requirement already satisfied: urllib3<3,>=1.21.1 in /usr/local/lib/python3.10/dist-packages (from requests>=2.0.0->requests-oauthlib>=0.7.0->google-auth-oauthlib) (2.0.7)\n",
            "Requirement already satisfied: certifi>=2017.4.17 in /usr/local/lib/python3.10/dist-packages (from requests>=2.0.0->requests-oauthlib>=0.7.0->google-auth-oauthlib) (2024.2.2)\n"
          ]
        }
      ],
      "source": [
        "!pip install flask google-auth google-auth-oauthlib google-auth-httplib2 pyngrok\n"
      ]
    },
    {
      "cell_type": "code",
      "source": [
        "import os\n",
        "from pyngrok import ngrok\n",
        "\n",
        "# Set up an ngrok tunnel to your local server\n",
        "public_url = ngrok.connect(5000)\n",
        "print(\"Ngrok URL:\", public_url)"
      ],
      "metadata": {
        "colab": {
          "base_uri": "https://localhost:8080/",
          "height": 480
        },
        "collapsed": true,
        "id": "VLPJZ3j3JCuu",
        "outputId": "9f30ca96-7bf2-4e82-a756-27d8702ef9b5"
      },
      "execution_count": 219,
      "outputs": [
        {
          "output_type": "stream",
          "name": "stderr",
          "text": [
            "ERROR:pyngrok.process.ngrok:t=2024-05-26T01:13:25+0000 lvl=eror msg=\"failed to reconnect session\" obj=tunnels.session err=\"authentication failed: Usage of ngrok requires a verified account and authtoken.\\n\\nSign up for an account: https://dashboard.ngrok.com/signup\\nInstall your authtoken: https://dashboard.ngrok.com/get-started/your-authtoken\\r\\n\\r\\nERR_NGROK_4018\\r\\n\"\n",
            "ERROR:pyngrok.process.ngrok:t=2024-05-26T01:13:25+0000 lvl=eror msg=\"session closing\" obj=tunnels.session err=\"authentication failed: Usage of ngrok requires a verified account and authtoken.\\n\\nSign up for an account: https://dashboard.ngrok.com/signup\\nInstall your authtoken: https://dashboard.ngrok.com/get-started/your-authtoken\\r\\n\\r\\nERR_NGROK_4018\\r\\n\"\n"
          ]
        },
        {
          "output_type": "error",
          "ename": "PyngrokNgrokError",
          "evalue": "The ngrok process errored on start: authentication failed: Usage of ngrok requires a verified account and authtoken.\\n\\nSign up for an account: https://dashboard.ngrok.com/signup\\nInstall your authtoken: https://dashboard.ngrok.com/get-started/your-authtoken\\r\\n\\r\\nERR_NGROK_4018\\r\\n.",
          "traceback": [
            "\u001b[0;31m---------------------------------------------------------------------------\u001b[0m",
            "\u001b[0;31mPyngrokNgrokError\u001b[0m                         Traceback (most recent call last)",
            "\u001b[0;32m<ipython-input-219-a4d310f732a4>\u001b[0m in \u001b[0;36m<cell line: 5>\u001b[0;34m()\u001b[0m\n\u001b[1;32m      3\u001b[0m \u001b[0;34m\u001b[0m\u001b[0m\n\u001b[1;32m      4\u001b[0m \u001b[0;31m# Set up an ngrok tunnel to your local server\u001b[0m\u001b[0;34m\u001b[0m\u001b[0;34m\u001b[0m\u001b[0m\n\u001b[0;32m----> 5\u001b[0;31m \u001b[0mpublic_url\u001b[0m \u001b[0;34m=\u001b[0m \u001b[0mngrok\u001b[0m\u001b[0;34m.\u001b[0m\u001b[0mconnect\u001b[0m\u001b[0;34m(\u001b[0m\u001b[0;36m5000\u001b[0m\u001b[0;34m)\u001b[0m\u001b[0;34m\u001b[0m\u001b[0;34m\u001b[0m\u001b[0m\n\u001b[0m\u001b[1;32m      6\u001b[0m \u001b[0mprint\u001b[0m\u001b[0;34m(\u001b[0m\u001b[0;34m\"Ngrok URL:\"\u001b[0m\u001b[0;34m,\u001b[0m \u001b[0mpublic_url\u001b[0m\u001b[0;34m)\u001b[0m\u001b[0;34m\u001b[0m\u001b[0;34m\u001b[0m\u001b[0m\n",
            "\u001b[0;32m/usr/local/lib/python3.10/dist-packages/pyngrok/ngrok.py\u001b[0m in \u001b[0;36mconnect\u001b[0;34m(addr, proto, name, pyngrok_config, **options)\u001b[0m\n\u001b[1;32m    314\u001b[0m             \u001b[0moptions\u001b[0m\u001b[0;34m.\u001b[0m\u001b[0mpop\u001b[0m\u001b[0;34m(\u001b[0m\u001b[0;34m\"auth\"\u001b[0m\u001b[0;34m)\u001b[0m\u001b[0;34m\u001b[0m\u001b[0;34m\u001b[0m\u001b[0m\n\u001b[1;32m    315\u001b[0m \u001b[0;34m\u001b[0m\u001b[0m\n\u001b[0;32m--> 316\u001b[0;31m     \u001b[0mapi_url\u001b[0m \u001b[0;34m=\u001b[0m \u001b[0mget_ngrok_process\u001b[0m\u001b[0;34m(\u001b[0m\u001b[0mpyngrok_config\u001b[0m\u001b[0;34m)\u001b[0m\u001b[0;34m.\u001b[0m\u001b[0mapi_url\u001b[0m\u001b[0;34m\u001b[0m\u001b[0;34m\u001b[0m\u001b[0m\n\u001b[0m\u001b[1;32m    317\u001b[0m \u001b[0;34m\u001b[0m\u001b[0m\n\u001b[1;32m    318\u001b[0m     \u001b[0mlogger\u001b[0m\u001b[0;34m.\u001b[0m\u001b[0mdebug\u001b[0m\u001b[0;34m(\u001b[0m\u001b[0;34mf\"Creating tunnel with options: {options}\"\u001b[0m\u001b[0;34m)\u001b[0m\u001b[0;34m\u001b[0m\u001b[0;34m\u001b[0m\u001b[0m\n",
            "\u001b[0;32m/usr/local/lib/python3.10/dist-packages/pyngrok/ngrok.py\u001b[0m in \u001b[0;36mget_ngrok_process\u001b[0;34m(pyngrok_config)\u001b[0m\n\u001b[1;32m    154\u001b[0m     \u001b[0minstall_ngrok\u001b[0m\u001b[0;34m(\u001b[0m\u001b[0mpyngrok_config\u001b[0m\u001b[0;34m)\u001b[0m\u001b[0;34m\u001b[0m\u001b[0;34m\u001b[0m\u001b[0m\n\u001b[1;32m    155\u001b[0m \u001b[0;34m\u001b[0m\u001b[0m\n\u001b[0;32m--> 156\u001b[0;31m     \u001b[0;32mreturn\u001b[0m \u001b[0mprocess\u001b[0m\u001b[0;34m.\u001b[0m\u001b[0mget_process\u001b[0m\u001b[0;34m(\u001b[0m\u001b[0mpyngrok_config\u001b[0m\u001b[0;34m)\u001b[0m\u001b[0;34m\u001b[0m\u001b[0;34m\u001b[0m\u001b[0m\n\u001b[0m\u001b[1;32m    157\u001b[0m \u001b[0;34m\u001b[0m\u001b[0m\n\u001b[1;32m    158\u001b[0m \u001b[0;34m\u001b[0m\u001b[0m\n",
            "\u001b[0;32m/usr/local/lib/python3.10/dist-packages/pyngrok/process.py\u001b[0m in \u001b[0;36mget_process\u001b[0;34m(pyngrok_config)\u001b[0m\n\u001b[1;32m    233\u001b[0m         \u001b[0;32mreturn\u001b[0m \u001b[0m_current_processes\u001b[0m\u001b[0;34m[\u001b[0m\u001b[0mpyngrok_config\u001b[0m\u001b[0;34m.\u001b[0m\u001b[0mngrok_path\u001b[0m\u001b[0;34m]\u001b[0m\u001b[0;34m\u001b[0m\u001b[0;34m\u001b[0m\u001b[0m\n\u001b[1;32m    234\u001b[0m \u001b[0;34m\u001b[0m\u001b[0m\n\u001b[0;32m--> 235\u001b[0;31m     \u001b[0;32mreturn\u001b[0m \u001b[0m_start_process\u001b[0m\u001b[0;34m(\u001b[0m\u001b[0mpyngrok_config\u001b[0m\u001b[0;34m)\u001b[0m\u001b[0;34m\u001b[0m\u001b[0;34m\u001b[0m\u001b[0m\n\u001b[0m\u001b[1;32m    236\u001b[0m \u001b[0;34m\u001b[0m\u001b[0m\n\u001b[1;32m    237\u001b[0m \u001b[0;34m\u001b[0m\u001b[0m\n",
            "\u001b[0;32m/usr/local/lib/python3.10/dist-packages/pyngrok/process.py\u001b[0m in \u001b[0;36m_start_process\u001b[0;34m(pyngrok_config)\u001b[0m\n\u001b[1;32m    396\u001b[0m \u001b[0;34m\u001b[0m\u001b[0m\n\u001b[1;32m    397\u001b[0m         \u001b[0;32mif\u001b[0m \u001b[0mngrok_process\u001b[0m\u001b[0;34m.\u001b[0m\u001b[0mstartup_error\u001b[0m \u001b[0;32mis\u001b[0m \u001b[0;32mnot\u001b[0m \u001b[0;32mNone\u001b[0m\u001b[0;34m:\u001b[0m\u001b[0;34m\u001b[0m\u001b[0;34m\u001b[0m\u001b[0m\n\u001b[0;32m--> 398\u001b[0;31m             raise PyngrokNgrokError(f\"The ngrok process errored on start: {ngrok_process.startup_error}.\",\n\u001b[0m\u001b[1;32m    399\u001b[0m                                     \u001b[0mngrok_process\u001b[0m\u001b[0;34m.\u001b[0m\u001b[0mlogs\u001b[0m\u001b[0;34m,\u001b[0m\u001b[0;34m\u001b[0m\u001b[0;34m\u001b[0m\u001b[0m\n\u001b[1;32m    400\u001b[0m                                     ngrok_process.startup_error)\n",
            "\u001b[0;31mPyngrokNgrokError\u001b[0m: The ngrok process errored on start: authentication failed: Usage of ngrok requires a verified account and authtoken.\\n\\nSign up for an account: https://dashboard.ngrok.com/signup\\nInstall your authtoken: https://dashboard.ngrok.com/get-started/your-authtoken\\r\\n\\r\\nERR_NGROK_4018\\r\\n."
          ]
        }
      ]
    },
    {
      "cell_type": "markdown",
      "metadata": {
        "id": "i3otdWLyxoCi"
      },
      "source": [
        "We will need to set our OpenAI Key as a Colab secret (see the key icon on the left-hand side of the Colab notebook) named 'OPENAI_API_KEY' and then convert it to an environment variable with the same name."
      ]
    },
    {
      "cell_type": "code",
      "source": [
        "import os\n",
        "from flask import Flask, redirect, url_for, session, request\n",
        "from google.oauth2 import id_token\n",
        "from google_auth_oauthlib.flow import Flow\n",
        "import google.auth.transport.requests\n",
        "\n",
        "# Configure the OAuth 2.0 client\n",
        "CLIENT_ID = '1070926917397-hpren3rf4p2nc65aoc6s6hgdllqmiqk6.apps.googleusercontent.com'\n",
        "CLIENT_SECRET = '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'\n",
        "REDIRECT_URI = public_url + '/callback'  # Use the public ngrok URL\n",
        "\n",
        "SCOPES = ['https://www.googleapis.com/auth/userinfo.profile', 'https://www.googleapis.com/auth/userinfo.email']\n",
        "\n",
        "flow = Flow.from_client_config(\n",
        "    {\n",
        "        \"web\": {\n",
        "            \"client_id\": CLIENT_ID,\n",
        "            \"client_secret\": CLIENT_SECRET,\n",
        "            \"redirect_uris\": [REDIRECT_URI],\n",
        "            \"auth_uri\": \"https://accounts.google.com/o/oauth2/auth\",\n",
        "            \"token_uri\": \"https://oauth2.googleapis.com/token\"\n",
        "        }\n",
        "    },\n",
        "    scopes=SCOPES\n",
        ")\n",
        "\n",
        "# Initialize Flask app\n",
        "app = Flask(__name__)\n",
        "app.secret_key = os.urandom(24)\n",
        "\n",
        "@app.route('/')\n",
        "def index():\n",
        "    return 'Welcome to the Google OAuth 2.0 Colab example! <a href=\"/login\">Login</a>'\n",
        "\n",
        "@app.route('/login')\n",
        "def login():\n",
        "    authorization_url, state = flow.authorization_url()\n",
        "    session['state'] = state\n",
        "    return redirect(authorization_url)\n",
        "\n",
        "@app.route('/callback')\n",
        "def callback():\n",
        "    flow.fetch_token(authorization_response=request.url)\n",
        "\n",
        "    if not session['state'] == request.args['state']:\n",
        "        return redirect(url_for('index'))\n",
        "\n",
        "    credentials = flow.credentials\n",
        "    request_session = google.auth.transport.requests.Request()\n",
        "\n",
        "    id_info = id_token.verify_oauth2_token(\n",
        "        id_token=credentials.id_token,\n",
        "        request=request_session,\n",
        "        audience=CLIENT_ID\n",
        "    )\n",
        "\n",
        "    session['user_info'] = id_info\n",
        "    return redirect(url_for('profile'))\n",
        "\n",
        "@app.route('/profile')\n",
        "def profile():\n",
        "    user_info = session.get('user_info')\n",
        "    if user_info:\n",
        "        return f\"Logged in as {user_info['name']} ({user_info['email']})\"\n",
        "    return redirect(url_for('index'))\n",
        "\n",
        "# Run the app\n",
        "if __name__ == '__main__':\n",
        "    app.run('localhost', 5000)\n",
        "\n"
      ],
      "metadata": {
        "colab": {
          "base_uri": "https://localhost:8080/",
          "height": 245
        },
        "id": "-xWKaZmMZlEi",
        "outputId": "3aff8a8b-8be2-48d6-87e3-abf31a972606"
      },
      "execution_count": 217,
      "outputs": [
        {
          "output_type": "error",
          "ename": "NameError",
          "evalue": "name 'public_url' is not defined",
          "traceback": [
            "\u001b[0;31m---------------------------------------------------------------------------\u001b[0m",
            "\u001b[0;31mNameError\u001b[0m                                 Traceback (most recent call last)",
            "\u001b[0;32m<ipython-input-217-d70c02b07057>\u001b[0m in \u001b[0;36m<cell line: 10>\u001b[0;34m()\u001b[0m\n\u001b[1;32m      8\u001b[0m \u001b[0mCLIENT_ID\u001b[0m \u001b[0;34m=\u001b[0m \u001b[0;34m'1070926917397-hpren3rf4p2nc65aoc6s6hgdllqmiqk6.apps.googleusercontent.com'\u001b[0m\u001b[0;34m\u001b[0m\u001b[0;34m\u001b[0m\u001b[0m\n\u001b[1;32m      9\u001b[0m \u001b[0mCLIENT_SECRET\u001b[0m \u001b[0;34m=\u001b[0m \u001b[0;34m'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'\u001b[0m\u001b[0;34m\u001b[0m\u001b[0;34m\u001b[0m\u001b[0m\n\u001b[0;32m---> 10\u001b[0;31m \u001b[0mREDIRECT_URI\u001b[0m \u001b[0;34m=\u001b[0m \u001b[0mpublic_url\u001b[0m \u001b[0;34m+\u001b[0m \u001b[0;34m'/callback'\u001b[0m  \u001b[0;31m# Use the public ngrok URL\u001b[0m\u001b[0;34m\u001b[0m\u001b[0;34m\u001b[0m\u001b[0m\n\u001b[0m\u001b[1;32m     11\u001b[0m \u001b[0;34m\u001b[0m\u001b[0m\n\u001b[1;32m     12\u001b[0m \u001b[0mSCOPES\u001b[0m \u001b[0;34m=\u001b[0m \u001b[0;34m[\u001b[0m\u001b[0;34m'https://www.googleapis.com/auth/userinfo.profile'\u001b[0m\u001b[0;34m,\u001b[0m \u001b[0;34m'https://www.googleapis.com/auth/userinfo.email'\u001b[0m\u001b[0;34m]\u001b[0m\u001b[0;34m\u001b[0m\u001b[0;34m\u001b[0m\u001b[0m\n",
            "\u001b[0;31mNameError\u001b[0m: name 'public_url' is not defined"
          ]
        }
      ]
    },
    {
      "cell_type": "code",
      "source": [
        "get_ipython().system_raw('python3 -m flask run --host=0.0.0.0 --port=5000 &')\n"
      ],
      "metadata": {
        "id": "pMFIdL4Haj8x"
      },
      "execution_count": null,
      "outputs": []
    },
    {
      "cell_type": "code",
      "execution_count": 196,
      "metadata": {
        "id": "szM8iq3LINtq"
      },
      "outputs": [],
      "source": [
        "# Cell 3: Set OpenAI API Key\n",
        "import os\n",
        "\n",
        "# Check if running in Google Colab\n",
        "try:\n",
        "    from google.colab import userdata\n",
        "    IN_COLAB = True\n",
        "except ImportError:\n",
        "    IN_COLAB = False\n",
        "\n",
        "if IN_COLAB:\n",
        "    os.environ[\"OPENAI_API_KEY\"] = userdata.get('OPENAI_API_KEY')\n",
        "else:\n",
        "    os.environ[\"OPENAI_API_KEY\"] = os.getenv('OPENAI_API_KEY')"
      ]
    },
    {
      "cell_type": "code",
      "source": [
        "# Cell 4: Import necessary libraries\n",
        "from selenium import webdriver\n",
        "from selenium.webdriver.chrome.service import Service\n",
        "from selenium.webdriver.common.by import By\n",
        "from selenium.webdriver.common.keys import Keys\n",
        "from selenium.webdriver.support.ui import WebDriverWait\n",
        "from selenium.webdriver.support import expected_conditions as EC\n",
        "from selenium.common.exceptions import TimeoutException\n",
        "from webdriver_manager.chrome import ChromeDriverManager\n",
        "import os"
      ],
      "metadata": {
        "id": "5GHQkhZMHxiG"
      },
      "execution_count": 197,
      "outputs": []
    },
    {
      "cell_type": "code",
      "source": [
        "# Cell 5: Initialize the Selenium WebDriver\n",
        "def init_driver():\n",
        "    chrome_options = webdriver.ChromeOptions()\n",
        "    chrome_options.add_argument(\"--headless\")\n",
        "    chrome_options.add_argument(\"--no-sandbox\")\n",
        "    chrome_options.add_argument(\"--disable-dev-shm-usage\")\n",
        "    chrome_options.add_argument(\"--disable-gpu\")\n",
        "    chrome_options.add_argument(\"--window-size=1920,1080\")\n",
        "    chrome_options.add_argument(\"--remote-debugging-port=9222\")\n",
        "    chrome_options.add_argument(\"--disable-extensions\")\n",
        "    chrome_options.add_argument(\"--disable-popup-blocking\")\n",
        "    chrome_options.add_argument(\"--disable-translate\")\n",
        "    chrome_options.add_argument(\"--disable-software-rasterizer\")\n",
        "    chrome_options.binary_location = \"/usr/bin/google-chrome\"\n",
        "\n",
        "    driver = webdriver.Chrome(service=Service(\"/usr/local/bin/chromedriver\"), options=chrome_options)\n",
        "    return driver"
      ],
      "metadata": {
        "id": "_DbKlDkOPGWd"
      },
      "execution_count": 198,
      "outputs": []
    },
    {
      "cell_type": "code",
      "source": [
        "# Cell 6: Define the function to log into Google\n",
        "def login_to_google(driver, email, password, retries=10):\n",
        "    for i in range(retries):\n",
        "        try:\n",
        "            driver.get(\"https://accounts.google.com/\")\n",
        "            break\n",
        "        except Exception as e:\n",
        "            print(f\"Connection failed: {e}\")\n",
        "            if i == retries - 1:\n",
        "                raise e\n",
        "\n",
        "    try:\n",
        "        # Enter email\n",
        "        email_input = WebDriverWait(driver, 30).until(\n",
        "            EC.presence_of_element_located((By.NAME, \"identifier\"))\n",
        "        )\n",
        "        email_input.send_keys(email)\n",
        "        email_input.send_keys(Keys.RETURN)\n",
        "\n",
        "        # Wait for password input to appear and enter password\n",
        "        password_input = WebDriverWait(driver, 30).until(\n",
        "            EC.presence_of_element_located((By.NAME, \"password\"))\n",
        "        )\n",
        "        password_input.send_keys(password)\n",
        "        password_input.send_keys(Keys.RETURN)\n",
        "\n",
        "        # Wait for login to complete\n",
        "        WebDriverWait(driver, 30).until(\n",
        "            EC.presence_of_element_located((By.CSS_SELECTOR, \"a[href*='myaccount.google.com']\"))\n",
        "        )\n",
        "        print(\"Logged into Google successfully.\")\n",
        "    except TimeoutException as e:\n",
        "        print(f\"TimeoutException: {e}\")\n",
        "    finally:\n",
        "        driver.quit()\n",
        "\n",
        "\n"
      ],
      "metadata": {
        "id": "2fWHHmsxH3dj"
      },
      "execution_count": 199,
      "outputs": []
    },
    {
      "cell_type": "markdown",
      "metadata": {
        "id": "GhHF9m4zd8mJ"
      },
      "source": [
        "## ActionEngine\n",
        "\n",
        "**An WebAgent is made up of two components: an `ActionEngine` and a `WorldModel`.**\n",
        "\n",
        "Let's start by initializing an `ActionEngine`, which is responsible for generating automation code for text instructions and executing them."
      ]
    },
    {
      "cell_type": "code",
      "execution_count": 200,
      "metadata": {
        "id": "V1sWzXVMd8mJ"
      },
      "outputs": [],
      "source": [
        "# Cell 7: Initialize ActionEngine, PythonEngine, and WorldModel\n",
        "from lavague.core import ActionEngine\n",
        "from lavague.drivers.selenium import SeleniumDriver\n",
        "from lavague.core import PythonEngine, WorldModel\n",
        "\n",
        "selenium_driver = SeleniumDriver()\n",
        "action_engine = ActionEngine(selenium_driver)\n",
        "python_engine = PythonEngine()\n",
        "world_model = WorldModel()"
      ]
    },
    {
      "cell_type": "markdown",
      "metadata": {
        "id": "Bhx7mp9axoCk"
      },
      "source": [
        "# Python Engine\n",
        "\n",
        "The python engine is responsible for generating code that doesn't interact with an html page."
      ]
    },
    {
      "cell_type": "code",
      "execution_count": 201,
      "metadata": {
        "id": "FFHMvKhXxoCk"
      },
      "outputs": [],
      "source": [
        "# Cell 8: Initialize WebAgent\n",
        "from lavague.core.agents import WebAgent\n",
        "\n",
        "agent = WebAgent(world_model, action_engine, python_engine)\n"
      ]
    },
    {
      "cell_type": "code",
      "execution_count": 208,
      "metadata": {
        "id": "6ckkvh1BF19J",
        "colab": {
          "base_uri": "https://localhost:8080/"
        },
        "outputId": "fe908272-26b2-4e19-c325-7fef6d7c2b22"
      },
      "outputs": [
        {
          "output_type": "stream",
          "name": "stdout",
          "text": [
            "Attempting to find email input...\n",
            "Email input found, entering email...\n",
            "Checking for intermediate steps...\n",
            "Waiting for password input to appear...\n",
            "TimeoutException: Message: \n",
            "Stacktrace:\n",
            "#0 0x5a4a11313e8a <unknown>\n",
            "#1 0x5a4a10ffd45c <unknown>\n",
            "#2 0x5a4a110495b5 <unknown>\n",
            "#3 0x5a4a11049671 <unknown>\n",
            "#4 0x5a4a1108df14 <unknown>\n",
            "#5 0x5a4a1106c4dd <unknown>\n",
            "#6 0x5a4a1108b2cc <unknown>\n",
            "#7 0x5a4a1106c253 <unknown>\n",
            "#8 0x5a4a1103c1c7 <unknown>\n",
            "#9 0x5a4a1103cb3e <unknown>\n",
            "#10 0x5a4a112da2cb <unknown>\n",
            "#11 0x5a4a112de377 <unknown>\n",
            "#12 0x5a4a112c6dfe <unknown>\n",
            "#13 0x5a4a112dee42 <unknown>\n",
            "#14 0x5a4a112ab79f <unknown>\n",
            "#15 0x5a4a11303178 <unknown>\n",
            "#16 0x5a4a1130334b <unknown>\n",
            "#17 0x5a4a11312fbc <unknown>\n",
            "#18 0x7e10e7630ac3 <unknown>\n",
            "\n",
            "Screenshot and page source saved for analysis.\n"
          ]
        }
      ],
      "source": [
        "# Cell 9: Initialize ActionEngine, PythonEngine, and WorldModel\n",
        "from lavague.core import ActionEngine, PythonEngine, WorldModel\n",
        "from lavague.drivers.selenium import SeleniumDriver\n",
        "\n",
        "def init_driver():\n",
        "    from selenium import webdriver\n",
        "    from selenium.webdriver.chrome.service import Service\n",
        "    from selenium.webdriver.common.by import By\n",
        "    from selenium.webdriver.common.keys import Keys\n",
        "    from selenium.webdriver.support.ui import WebDriverWait\n",
        "    from selenium.webdriver.support import expected_conditions as EC\n",
        "    from selenium.common.exceptions import TimeoutException\n",
        "    from webdriver_manager.chrome import ChromeDriverManager\n",
        "\n",
        "    chrome_options = webdriver.ChromeOptions()\n",
        "    chrome_options.add_argument(\"--headless\")\n",
        "    chrome_options.add_argument(\"--no-sandbox\")\n",
        "    chrome_options.add_argument(\"--disable-dev-shm-usage\")\n",
        "    chrome_options.add_argument(\"--disable-gpu\")\n",
        "    chrome_options.add_argument(\"--window-size=1920,1080\")\n",
        "    chrome_options.add_argument(\"--remote-debugging-port=9222\")\n",
        "    chrome_options.add_argument(\"--disable-extensions\")\n",
        "    chrome_options.add_argument(\"--disable-popup-blocking\")\n",
        "    chrome_options.add_argument(\"--disable-translate\")\n",
        "    chrome_options.binary_location = \"/usr/bin/google-chrome\"\n",
        "\n",
        "    driver = webdriver.Chrome(service=Service(ChromeDriverManager().install()), options=chrome_options)\n",
        "    return driver\n",
        "\n",
        "def login_to_google(driver, email, password, retries=10):\n",
        "    for i in range(retries):\n",
        "        try:\n",
        "            driver.get(\"https://accounts.google.com/\")\n",
        "            break\n",
        "        except Exception as e:\n",
        "            print(f\"Connection failed: {e}\")\n",
        "            if i == retries - 1:\n",
        "                raise e\n",
        "\n",
        "    try:\n",
        "        print(\"Attempting to find email input...\")\n",
        "        email_input = WebDriverWait(driver, 40).until(\n",
        "            EC.presence_of_element_located((By.NAME, \"identifier\"))\n",
        "        )\n",
        "        print(\"Email input found, entering email...\")\n",
        "        email_input.send_keys(email)\n",
        "        email_input.send_keys(Keys.RETURN)\n",
        "\n",
        "        # Check for any intermediate steps\n",
        "        try:\n",
        "            print(\"Checking for intermediate steps...\")\n",
        "            next_button = WebDriverWait(driver, 40).until(\n",
        "                EC.element_to_be_clickable((By.XPATH, '//span[text()=\"Next\"]'))\n",
        "            )\n",
        "            next_button.click()\n",
        "        except TimeoutException:\n",
        "            pass  # No intermediate step\n",
        "\n",
        "        # Another possible \"Next\" button\n",
        "        try:\n",
        "            next_button_alt = WebDriverWait(driver, 40).until(\n",
        "                EC.element_to_be_clickable((By.XPATH, '//div[@id=\"identifierNext\"]//button'))\n",
        "            )\n",
        "            next_button_alt.click()\n",
        "        except TimeoutException:\n",
        "            pass  # No intermediate step\n",
        "\n",
        "        print(\"Waiting for password input to appear...\")\n",
        "        password_input = WebDriverWait(driver, 40).until(\n",
        "            EC.presence_of_element_located((By.NAME, \"password\"))\n",
        "        )\n",
        "        print(\"Password input found, entering password...\")\n",
        "        password_input.send_keys(password)\n",
        "        password_input.send_keys(Keys.RETURN)\n",
        "\n",
        "        print(\"Waiting for login to complete...\")\n",
        "        WebDriverWait(driver, 40).until(\n",
        "            EC.presence_of_element_located((By.CSS_SELECTOR, \"a[href*='myaccount.google.com']\"))\n",
        "        )\n",
        "        print(\"Logged into Google successfully.\")\n",
        "    except TimeoutException as e:\n",
        "        print(f\"TimeoutException: {e}\")\n",
        "        driver.save_screenshot(\"error_screenshot.png\")\n",
        "        page_source = driver.page_source\n",
        "        with open(\"page_source.html\", \"w\") as f:\n",
        "            f.write(page_source)\n",
        "        print(\"Screenshot and page source saved for analysis.\")\n",
        "    finally:\n",
        "        driver.quit()\n",
        "\n",
        "def login_to_gmail_with_agent(agent, email, password):\n",
        "    selenium_driver.driver = init_driver()\n",
        "    login_to_google(selenium_driver.driver, email, password)\n",
        "\n",
        "# Example usage\n",
        "email = \"bradmatera@gmail.com\"\n",
        "password = os.getenv('your-password')  # Assuming you set this secret in Colab\n",
        "login_to_gmail_with_agent(agent, email, password)\n",
        "\n"
      ]
    },
    {
      "cell_type": "markdown",
      "source": [],
      "metadata": {
        "id": "bItFWFxyXotE"
      }
    }
  ],
  "metadata": {
    "colab": {
      "machine_shape": "hm",
      "provenance": [],
      "include_colab_link": true
    },
    "kernelspec": {
      "display_name": "Python 3 (ipykernel)",
      "language": "python",
      "name": "python3"
    },
    "language_info": {
      "codemirror_mode": {
        "name": "ipython",
        "version": 3
      },
      "file_extension": ".py",
      "mimetype": "text/x-python",
      "name": "python",
      "nbconvert_exporter": "python",
      "pygments_lexer": "ipython3",
      "version": "3.10.12"
    }
  },
  "nbformat": 4,
  "nbformat_minor": 0
}